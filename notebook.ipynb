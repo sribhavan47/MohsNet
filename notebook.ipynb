{
 "cells": [
  {
   "cell_type": "markdown",
   "metadata": {},
   "source": [
    "# Setting up the environment"
   ]
  },
  {
   "cell_type": "code",
   "execution_count": 1,
   "metadata": {},
   "outputs": [],
   "source": [
    "import warnings\n",
    "warnings.filterwarnings('ignore')"
   ]
  },
  {
   "cell_type": "code",
   "execution_count": 2,
   "metadata": {},
   "outputs": [],
   "source": [
    "import numpy as np\n",
    "import pandas as pd"
   ]
  },
  {
   "cell_type": "code",
   "execution_count": 3,
   "metadata": {},
   "outputs": [],
   "source": [
    "data = pd.read_csv('C:/Users/Aravind/PROJECTS/Mohs-Hardness-With-PySpark/data/train.csv')"
   ]
  },
  {
   "cell_type": "code",
   "execution_count": 4,
   "metadata": {},
   "outputs": [
    {
     "name": "stdout",
     "output_type": "stream",
     "text": [
      "<class 'pandas.core.frame.DataFrame'>\n",
      "RangeIndex: 10407 entries, 0 to 10406\n",
      "Data columns (total 13 columns):\n",
      " #   Column                 Non-Null Count  Dtype  \n",
      "---  ------                 --------------  -----  \n",
      " 0   id                     10407 non-null  int64  \n",
      " 1   allelectrons_Total     10407 non-null  float64\n",
      " 2   density_Total          10407 non-null  float64\n",
      " 3   allelectrons_Average   10407 non-null  float64\n",
      " 4   val_e_Average          10407 non-null  float64\n",
      " 5   atomicweight_Average   10407 non-null  float64\n",
      " 6   ionenergy_Average      10407 non-null  float64\n",
      " 7   el_neg_chi_Average     10407 non-null  float64\n",
      " 8   R_vdw_element_Average  10407 non-null  float64\n",
      " 9   R_cov_element_Average  10407 non-null  float64\n",
      " 10  zaratio_Average        10407 non-null  float64\n",
      " 11  density_Average        10407 non-null  float64\n",
      " 12  Hardness               10407 non-null  float64\n",
      "dtypes: float64(12), int64(1)\n",
      "memory usage: 1.0 MB\n"
     ]
    }
   ],
   "source": [
    "data.info()"
   ]
  },
  {
   "cell_type": "code",
   "execution_count": 5,
   "metadata": {},
   "outputs": [
    {
     "data": {
      "text/html": [
       "<div>\n",
       "<style scoped>\n",
       "    .dataframe tbody tr th:only-of-type {\n",
       "        vertical-align: middle;\n",
       "    }\n",
       "\n",
       "    .dataframe tbody tr th {\n",
       "        vertical-align: top;\n",
       "    }\n",
       "\n",
       "    .dataframe thead th {\n",
       "        text-align: right;\n",
       "    }\n",
       "</style>\n",
       "<table border=\"1\" class=\"dataframe\">\n",
       "  <thead>\n",
       "    <tr style=\"text-align: right;\">\n",
       "      <th></th>\n",
       "      <th>id</th>\n",
       "      <th>allelectrons_Total</th>\n",
       "      <th>density_Total</th>\n",
       "      <th>allelectrons_Average</th>\n",
       "      <th>val_e_Average</th>\n",
       "      <th>atomicweight_Average</th>\n",
       "      <th>ionenergy_Average</th>\n",
       "      <th>el_neg_chi_Average</th>\n",
       "      <th>R_vdw_element_Average</th>\n",
       "      <th>R_cov_element_Average</th>\n",
       "      <th>zaratio_Average</th>\n",
       "      <th>density_Average</th>\n",
       "      <th>Hardness</th>\n",
       "    </tr>\n",
       "  </thead>\n",
       "  <tbody>\n",
       "    <tr>\n",
       "      <th>0</th>\n",
       "      <td>0</td>\n",
       "      <td>100.0</td>\n",
       "      <td>0.841611</td>\n",
       "      <td>10.0</td>\n",
       "      <td>4.8</td>\n",
       "      <td>20.612526</td>\n",
       "      <td>11.08810</td>\n",
       "      <td>2.766</td>\n",
       "      <td>1.732</td>\n",
       "      <td>0.860</td>\n",
       "      <td>0.496070</td>\n",
       "      <td>0.91457</td>\n",
       "      <td>6.0</td>\n",
       "    </tr>\n",
       "    <tr>\n",
       "      <th>1</th>\n",
       "      <td>1</td>\n",
       "      <td>100.0</td>\n",
       "      <td>7.558488</td>\n",
       "      <td>10.0</td>\n",
       "      <td>4.8</td>\n",
       "      <td>20.298893</td>\n",
       "      <td>12.04083</td>\n",
       "      <td>2.755</td>\n",
       "      <td>1.631</td>\n",
       "      <td>0.910</td>\n",
       "      <td>0.492719</td>\n",
       "      <td>0.71760</td>\n",
       "      <td>6.5</td>\n",
       "    </tr>\n",
       "    <tr>\n",
       "      <th>2</th>\n",
       "      <td>2</td>\n",
       "      <td>76.0</td>\n",
       "      <td>8.885992</td>\n",
       "      <td>15.6</td>\n",
       "      <td>5.6</td>\n",
       "      <td>33.739258</td>\n",
       "      <td>12.08630</td>\n",
       "      <td>2.828</td>\n",
       "      <td>1.788</td>\n",
       "      <td>0.864</td>\n",
       "      <td>0.481478</td>\n",
       "      <td>1.50633</td>\n",
       "      <td>2.5</td>\n",
       "    </tr>\n",
       "    <tr>\n",
       "      <th>3</th>\n",
       "      <td>3</td>\n",
       "      <td>100.0</td>\n",
       "      <td>8.795296</td>\n",
       "      <td>10.0</td>\n",
       "      <td>4.8</td>\n",
       "      <td>20.213349</td>\n",
       "      <td>10.94850</td>\n",
       "      <td>2.648</td>\n",
       "      <td>1.626</td>\n",
       "      <td>0.936</td>\n",
       "      <td>0.489272</td>\n",
       "      <td>0.78937</td>\n",
       "      <td>6.0</td>\n",
       "    </tr>\n",
       "    <tr>\n",
       "      <th>4</th>\n",
       "      <td>4</td>\n",
       "      <td>116.0</td>\n",
       "      <td>9.577996</td>\n",
       "      <td>11.6</td>\n",
       "      <td>4.8</td>\n",
       "      <td>24.988133</td>\n",
       "      <td>11.82448</td>\n",
       "      <td>2.766</td>\n",
       "      <td>1.682</td>\n",
       "      <td>0.896</td>\n",
       "      <td>0.492736</td>\n",
       "      <td>1.86481</td>\n",
       "      <td>6.0</td>\n",
       "    </tr>\n",
       "  </tbody>\n",
       "</table>\n",
       "</div>"
      ],
      "text/plain": [
       "   id  allelectrons_Total  density_Total  allelectrons_Average  val_e_Average  \\\n",
       "0   0               100.0       0.841611                  10.0            4.8   \n",
       "1   1               100.0       7.558488                  10.0            4.8   \n",
       "2   2                76.0       8.885992                  15.6            5.6   \n",
       "3   3               100.0       8.795296                  10.0            4.8   \n",
       "4   4               116.0       9.577996                  11.6            4.8   \n",
       "\n",
       "   atomicweight_Average  ionenergy_Average  el_neg_chi_Average  \\\n",
       "0             20.612526           11.08810               2.766   \n",
       "1             20.298893           12.04083               2.755   \n",
       "2             33.739258           12.08630               2.828   \n",
       "3             20.213349           10.94850               2.648   \n",
       "4             24.988133           11.82448               2.766   \n",
       "\n",
       "   R_vdw_element_Average  R_cov_element_Average  zaratio_Average  \\\n",
       "0                  1.732                  0.860         0.496070   \n",
       "1                  1.631                  0.910         0.492719   \n",
       "2                  1.788                  0.864         0.481478   \n",
       "3                  1.626                  0.936         0.489272   \n",
       "4                  1.682                  0.896         0.492736   \n",
       "\n",
       "   density_Average  Hardness  \n",
       "0          0.91457       6.0  \n",
       "1          0.71760       6.5  \n",
       "2          1.50633       2.5  \n",
       "3          0.78937       6.0  \n",
       "4          1.86481       6.0  "
      ]
     },
     "execution_count": 5,
     "metadata": {},
     "output_type": "execute_result"
    }
   ],
   "source": [
    "data.head()"
   ]
  },
  {
   "cell_type": "markdown",
   "metadata": {},
   "source": [
    "# Starting a Spark Session"
   ]
  },
  {
   "cell_type": "code",
   "execution_count": 6,
   "metadata": {},
   "outputs": [],
   "source": [
    "from pyspark.sql import SparkSession\n",
    "spark = SparkSession.builder.appName('Dev').getOrCreate()"
   ]
  },
  {
   "cell_type": "code",
   "execution_count": 7,
   "metadata": {},
   "outputs": [
    {
     "data": {
      "text/html": [
       "\n",
       "            <div>\n",
       "                <p><b>SparkSession - in-memory</b></p>\n",
       "                \n",
       "        <div>\n",
       "            <p><b>SparkContext</b></p>\n",
       "\n",
       "            <p><a href=\"http://VERONICA:4040\">Spark UI</a></p>\n",
       "\n",
       "            <dl>\n",
       "              <dt>Version</dt>\n",
       "                <dd><code>v3.5.0</code></dd>\n",
       "              <dt>Master</dt>\n",
       "                <dd><code>local[*]</code></dd>\n",
       "              <dt>AppName</dt>\n",
       "                <dd><code>Dev</code></dd>\n",
       "            </dl>\n",
       "        </div>\n",
       "        \n",
       "            </div>\n",
       "        "
      ],
      "text/plain": [
       "<pyspark.sql.session.SparkSession at 0x1ac2cbba110>"
      ]
     },
     "execution_count": 7,
     "metadata": {},
     "output_type": "execute_result"
    }
   ],
   "source": [
    "spark"
   ]
  },
  {
   "cell_type": "markdown",
   "metadata": {},
   "source": [
    "# Preprocessing"
   ]
  },
  {
   "cell_type": "code",
   "execution_count": 8,
   "metadata": {},
   "outputs": [],
   "source": [
    "df = spark.read.csv('C:/Users/Aravind/PROJECTS/Mohs-Hardness-With-PySpark/data/train.csv')"
   ]
  },
  {
   "cell_type": "code",
   "execution_count": 9,
   "metadata": {},
   "outputs": [
    {
     "data": {
      "text/plain": [
       "DataFrame[_c0: string, _c1: string, _c2: string, _c3: string, _c4: string, _c5: string, _c6: string, _c7: string, _c8: string, _c9: string, _c10: string, _c11: string, _c12: string]"
      ]
     },
     "execution_count": 9,
     "metadata": {},
     "output_type": "execute_result"
    }
   ],
   "source": [
    "df"
   ]
  },
  {
   "cell_type": "code",
   "execution_count": 10,
   "metadata": {},
   "outputs": [
    {
     "name": "stdout",
     "output_type": "stream",
     "text": [
      "+---+------------------+------------------+--------------------+-----------------+--------------------+------------------+------------------+--------------------+--------------------+------------------+---------------+--------+\n",
      "|_c0|               _c1|               _c2|                 _c3|              _c4|                 _c5|               _c6|               _c7|                 _c8|                 _c9|              _c10|           _c11|    _c12|\n",
      "+---+------------------+------------------+--------------------+-----------------+--------------------+------------------+------------------+--------------------+--------------------+------------------+---------------+--------+\n",
      "| id|allelectrons_Total|     density_Total|allelectrons_Average|    val_e_Average|atomicweight_Average| ionenergy_Average|el_neg_chi_Average|R_vdw_element_Ave...|R_cov_element_Ave...|   zaratio_Average|density_Average|Hardness|\n",
      "|  0|             100.0|0.8416109999999999|                10.0|              4.8|          20.6125257|           11.0881|             2.766|               1.732|                0.86|0.4960699999999999|        0.91457|     6.0|\n",
      "|  1|             100.0|          7.558488|                10.0|              4.8|       20.2988926326|          12.04083|             2.755|  1.6309999999999998|                0.91|          0.492719|         0.7176|     6.5|\n",
      "|  2|              76.0|          8.885992|                15.6|              5.6|           33.739258|           12.0863|2.8280000000000003|  1.7880000000000005|  0.8640000000000001|          0.481478|        1.50633|     2.5|\n",
      "|  3|             100.0|          8.795296|                10.0|              4.8|        20.213348778|           10.9485|             2.648|               1.626|               0.936|          0.489272|        0.78937|     6.0|\n",
      "|  4|             116.0|          9.577996|                11.6|              4.8|        24.988133138|          11.82448|             2.766|               1.682|  0.8959999999999999|0.4927359999999999|        1.86481|     6.0|\n",
      "|  5|             131.0|         24.529328|   21.83333333333333|4.666666666666667|             50.1315|           11.9482| 2.858333333333333|  1.7583333333333335|  0.8966666666666668|0.4663883333333334|        2.94712|     6.0|\n",
      "|  6|              50.0|          3.253996|                10.0|              4.8|           20.077018|11.023840000000002|             2.727|               1.767|  0.8800000000000001|           0.49901|        0.80631|     2.0|\n",
      "|  7|              30.0|        2.70174775|                 6.0|              4.0|           11.663548|          12.41584|             2.766|               1.495|                0.71|         0.6184925|        0.41631|     4.0|\n",
      "|  8|             120.0|            14.632|                12.0|              4.8|           24.808518|          11.33182|              2.87|              1.7185|                0.91|0.4927359999999999|        1.96268|     6.0|\n",
      "|  9|              97.0|         13.477328|             12.8125|              5.0|      24.98813313725|         11.037175|           2.81875|             1.60125|             0.88125|         0.4931925|        1.10889|     5.8|\n",
      "| 10|              72.0|          6.697992|                 8.0|              4.6|  16.862137999999998|          11.79886|             2.648|               1.626|               0.912|          0.498984|        0.74322|     6.0|\n",
      "| 11|             136.0|          8.109328|                11.0|4.333333333333333|   22.68885333333333|12.874275000000004|2.1466666666666665|  1.7133333333333336|                0.92|0.4990741666666666|        0.75585|     5.5|\n",
      "| 12|              14.0|          4.673996|                14.0|              4.0|  31.574635600000004|            9.8771|             2.115|               1.925|                1.12|0.4776649999999999|         1.8288|     2.0|\n",
      "| 13|              74.0|             14.22|                14.0|              4.0|           24.789618|            9.8771|             2.115|               1.905|                1.12|           0.49897|         1.3513|     6.0|\n",
      "| 14|             105.0|          5.203996|                10.0|              4.8|          20.3920334|          11.46526|             2.752|  1.7880000000000005|               0.946|          0.481478|        0.81244|     3.5|\n",
      "| 15|             126.0|             13.35|                15.6|              4.4|           33.739258|          10.73364|             2.694|               1.925|               0.928|          0.489272|        1.96268|     6.0|\n",
      "| 16|             214.0|            26.092|                22.4|              5.2|          53.4902975|          11.33044|2.8280000000000003|  1.7400000000000002|                0.96|0.4775399999999999|        4.30067|     2.5|\n",
      "| 17|              80.0|         3.7468275|                10.0|              4.5|       20.9940862215|         11.100835|               2.6|              1.7095|                0.85|0.4912240000000001|        0.53898|     5.5|\n",
      "| 18|              50.0| 8.505991999999999|                10.0|              4.8|       20.2988926326|10.565180000000002|2.7030000000000003|  1.6980000000000002|  0.8800000000000001|          0.496379|        0.68424|     5.5|\n",
      "+---+------------------+------------------+--------------------+-----------------+--------------------+------------------+------------------+--------------------+--------------------+------------------+---------------+--------+\n",
      "only showing top 20 rows\n",
      "\n"
     ]
    }
   ],
   "source": [
    "df.show()"
   ]
  },
  {
   "cell_type": "code",
   "execution_count": 11,
   "metadata": {},
   "outputs": [
    {
     "name": "stdout",
     "output_type": "stream",
     "text": [
      "+---+------------------+------------------+--------------------+-----------------+--------------------+------------------+------------------+---------------------+---------------------+------------------+---------------+--------+\n",
      "| id|allelectrons_Total|     density_Total|allelectrons_Average|    val_e_Average|atomicweight_Average| ionenergy_Average|el_neg_chi_Average|R_vdw_element_Average|R_cov_element_Average|   zaratio_Average|density_Average|Hardness|\n",
      "+---+------------------+------------------+--------------------+-----------------+--------------------+------------------+------------------+---------------------+---------------------+------------------+---------------+--------+\n",
      "|  0|             100.0|0.8416109999999999|                10.0|              4.8|          20.6125257|           11.0881|             2.766|                1.732|                 0.86|0.4960699999999999|        0.91457|     6.0|\n",
      "|  1|             100.0|          7.558488|                10.0|              4.8|       20.2988926326|          12.04083|             2.755|   1.6309999999999998|                 0.91|          0.492719|         0.7176|     6.5|\n",
      "|  2|              76.0|          8.885992|                15.6|              5.6|           33.739258|           12.0863|2.8280000000000003|   1.7880000000000005|   0.8640000000000001|          0.481478|        1.50633|     2.5|\n",
      "|  3|             100.0|          8.795296|                10.0|              4.8|        20.213348778|           10.9485|             2.648|                1.626|                0.936|          0.489272|        0.78937|     6.0|\n",
      "|  4|             116.0|          9.577996|                11.6|              4.8|        24.988133138|          11.82448|             2.766|                1.682|   0.8959999999999999|0.4927359999999999|        1.86481|     6.0|\n",
      "|  5|             131.0|         24.529328|   21.83333333333333|4.666666666666667|             50.1315|           11.9482| 2.858333333333333|   1.7583333333333335|   0.8966666666666668|0.4663883333333334|        2.94712|     6.0|\n",
      "|  6|              50.0|          3.253996|                10.0|              4.8|           20.077018|11.023840000000002|             2.727|                1.767|   0.8800000000000001|           0.49901|        0.80631|     2.0|\n",
      "|  7|              30.0|        2.70174775|                 6.0|              4.0|           11.663548|          12.41584|             2.766|                1.495|                 0.71|         0.6184925|        0.41631|     4.0|\n",
      "|  8|             120.0|            14.632|                12.0|              4.8|           24.808518|          11.33182|              2.87|               1.7185|                 0.91|0.4927359999999999|        1.96268|     6.0|\n",
      "|  9|              97.0|         13.477328|             12.8125|              5.0|      24.98813313725|         11.037175|           2.81875|              1.60125|              0.88125|         0.4931925|        1.10889|     5.8|\n",
      "| 10|              72.0|          6.697992|                 8.0|              4.6|  16.862137999999998|          11.79886|             2.648|                1.626|                0.912|          0.498984|        0.74322|     6.0|\n",
      "| 11|             136.0|          8.109328|                11.0|4.333333333333333|   22.68885333333333|12.874275000000004|2.1466666666666665|   1.7133333333333336|                 0.92|0.4990741666666666|        0.75585|     5.5|\n",
      "| 12|              14.0|          4.673996|                14.0|              4.0|  31.574635600000004|            9.8771|             2.115|                1.925|                 1.12|0.4776649999999999|         1.8288|     2.0|\n",
      "| 13|              74.0|             14.22|                14.0|              4.0|           24.789618|            9.8771|             2.115|                1.905|                 1.12|           0.49897|         1.3513|     6.0|\n",
      "| 14|             105.0|          5.203996|                10.0|              4.8|          20.3920334|          11.46526|             2.752|   1.7880000000000005|                0.946|          0.481478|        0.81244|     3.5|\n",
      "| 15|             126.0|             13.35|                15.6|              4.4|           33.739258|          10.73364|             2.694|                1.925|                0.928|          0.489272|        1.96268|     6.0|\n",
      "| 16|             214.0|            26.092|                22.4|              5.2|          53.4902975|          11.33044|2.8280000000000003|   1.7400000000000002|                 0.96|0.4775399999999999|        4.30067|     2.5|\n",
      "| 17|              80.0|         3.7468275|                10.0|              4.5|       20.9940862215|         11.100835|               2.6|               1.7095|                 0.85|0.4912240000000001|        0.53898|     5.5|\n",
      "| 18|              50.0| 8.505991999999999|                10.0|              4.8|       20.2988926326|10.565180000000002|2.7030000000000003|   1.6980000000000002|   0.8800000000000001|          0.496379|        0.68424|     5.5|\n",
      "| 19|             112.0|         15.232328|   24.66666666666667|              6.0|            55.64164|11.239316666666667| 2.736666666666667|   1.7283333333333335|   0.9683333333333334|          0.477685|        3.11002|     4.5|\n",
      "+---+------------------+------------------+--------------------+-----------------+--------------------+------------------+------------------+---------------------+---------------------+------------------+---------------+--------+\n",
      "only showing top 20 rows\n",
      "\n"
     ]
    }
   ],
   "source": [
    "spark.read.option('header','true').csv('C:/Users/Aravind/PROJECTS/Mohs-Hardness-With-PySpark/data/train.csv').show()"
   ]
  },
  {
   "cell_type": "code",
   "execution_count": 12,
   "metadata": {},
   "outputs": [],
   "source": [
    "df = spark.read.option('header','true').csv('C:/Users/Aravind/PROJECTS/Mohs-Hardness-With-PySpark/data/train.csv',inferSchema=True)"
   ]
  },
  {
   "cell_type": "code",
   "execution_count": 13,
   "metadata": {},
   "outputs": [
    {
     "data": {
      "text/plain": [
       "DataFrame[id: int, allelectrons_Total: double, density_Total: double, allelectrons_Average: double, val_e_Average: double, atomicweight_Average: double, ionenergy_Average: double, el_neg_chi_Average: double, R_vdw_element_Average: double, R_cov_element_Average: double, zaratio_Average: double, density_Average: double, Hardness: double]"
      ]
     },
     "execution_count": 13,
     "metadata": {},
     "output_type": "execute_result"
    }
   ],
   "source": [
    "df"
   ]
  },
  {
   "cell_type": "code",
   "execution_count": 14,
   "metadata": {},
   "outputs": [
    {
     "data": {
      "text/plain": [
       "pyspark.sql.dataframe.DataFrame"
      ]
     },
     "execution_count": 14,
     "metadata": {},
     "output_type": "execute_result"
    }
   ],
   "source": [
    "type(df)"
   ]
  },
  {
   "cell_type": "code",
   "execution_count": 15,
   "metadata": {},
   "outputs": [
    {
     "name": "stdout",
     "output_type": "stream",
     "text": [
      "root\n",
      " |-- id: integer (nullable = true)\n",
      " |-- allelectrons_Total: double (nullable = true)\n",
      " |-- density_Total: double (nullable = true)\n",
      " |-- allelectrons_Average: double (nullable = true)\n",
      " |-- val_e_Average: double (nullable = true)\n",
      " |-- atomicweight_Average: double (nullable = true)\n",
      " |-- ionenergy_Average: double (nullable = true)\n",
      " |-- el_neg_chi_Average: double (nullable = true)\n",
      " |-- R_vdw_element_Average: double (nullable = true)\n",
      " |-- R_cov_element_Average: double (nullable = true)\n",
      " |-- zaratio_Average: double (nullable = true)\n",
      " |-- density_Average: double (nullable = true)\n",
      " |-- Hardness: double (nullable = true)\n",
      "\n"
     ]
    }
   ],
   "source": [
    "df.printSchema()"
   ]
  },
  {
   "cell_type": "code",
   "execution_count": 16,
   "metadata": {},
   "outputs": [
    {
     "data": {
      "text/plain": [
       "['id',\n",
       " 'allelectrons_Total',\n",
       " 'density_Total',\n",
       " 'allelectrons_Average',\n",
       " 'val_e_Average',\n",
       " 'atomicweight_Average',\n",
       " 'ionenergy_Average',\n",
       " 'el_neg_chi_Average',\n",
       " 'R_vdw_element_Average',\n",
       " 'R_cov_element_Average',\n",
       " 'zaratio_Average',\n",
       " 'density_Average',\n",
       " 'Hardness']"
      ]
     },
     "execution_count": 16,
     "metadata": {},
     "output_type": "execute_result"
    }
   ],
   "source": [
    "df.columns"
   ]
  },
  {
   "cell_type": "code",
   "execution_count": 17,
   "metadata": {},
   "outputs": [
    {
     "data": {
      "text/plain": [
       "[Row(id=0, allelectrons_Total=100.0, density_Total=0.8416109999999999, allelectrons_Average=10.0, val_e_Average=4.8, atomicweight_Average=20.6125257, ionenergy_Average=11.0881, el_neg_chi_Average=2.766, R_vdw_element_Average=1.732, R_cov_element_Average=0.86, zaratio_Average=0.4960699999999999, density_Average=0.91457, Hardness=6.0),\n",
       " Row(id=1, allelectrons_Total=100.0, density_Total=7.558488, allelectrons_Average=10.0, val_e_Average=4.8, atomicweight_Average=20.2988926326, ionenergy_Average=12.04083, el_neg_chi_Average=2.755, R_vdw_element_Average=1.6309999999999998, R_cov_element_Average=0.91, zaratio_Average=0.492719, density_Average=0.7176, Hardness=6.5),\n",
       " Row(id=2, allelectrons_Total=76.0, density_Total=8.885992, allelectrons_Average=15.6, val_e_Average=5.6, atomicweight_Average=33.739258, ionenergy_Average=12.0863, el_neg_chi_Average=2.8280000000000003, R_vdw_element_Average=1.7880000000000005, R_cov_element_Average=0.8640000000000001, zaratio_Average=0.481478, density_Average=1.50633, Hardness=2.5),\n",
       " Row(id=3, allelectrons_Total=100.0, density_Total=8.795296, allelectrons_Average=10.0, val_e_Average=4.8, atomicweight_Average=20.213348778, ionenergy_Average=10.9485, el_neg_chi_Average=2.648, R_vdw_element_Average=1.626, R_cov_element_Average=0.936, zaratio_Average=0.489272, density_Average=0.78937, Hardness=6.0),\n",
       " Row(id=4, allelectrons_Total=116.0, density_Total=9.577996, allelectrons_Average=11.6, val_e_Average=4.8, atomicweight_Average=24.988133138, ionenergy_Average=11.82448, el_neg_chi_Average=2.766, R_vdw_element_Average=1.682, R_cov_element_Average=0.8959999999999999, zaratio_Average=0.4927359999999999, density_Average=1.86481, Hardness=6.0)]"
      ]
     },
     "execution_count": 17,
     "metadata": {},
     "output_type": "execute_result"
    }
   ],
   "source": [
    "df.head(5)"
   ]
  },
  {
   "cell_type": "code",
   "execution_count": 18,
   "metadata": {},
   "outputs": [
    {
     "data": {
      "text/plain": [
       "DataFrame[id: int]"
      ]
     },
     "execution_count": 18,
     "metadata": {},
     "output_type": "execute_result"
    }
   ],
   "source": [
    "df.select('id')"
   ]
  },
  {
   "cell_type": "code",
   "execution_count": 19,
   "metadata": {},
   "outputs": [
    {
     "data": {
      "text/plain": [
       "DataFrame[id: int, Hardness: double]"
      ]
     },
     "execution_count": 19,
     "metadata": {},
     "output_type": "execute_result"
    }
   ],
   "source": [
    "df.select(['id','Hardness'])"
   ]
  },
  {
   "cell_type": "code",
   "execution_count": 20,
   "metadata": {},
   "outputs": [
    {
     "data": {
      "text/plain": [
       "Column<'id'>"
      ]
     },
     "execution_count": 20,
     "metadata": {},
     "output_type": "execute_result"
    }
   ],
   "source": [
    "df['id']"
   ]
  },
  {
   "cell_type": "code",
   "execution_count": 21,
   "metadata": {},
   "outputs": [
    {
     "data": {
      "text/plain": [
       "[('id', 'int'),\n",
       " ('allelectrons_Total', 'double'),\n",
       " ('density_Total', 'double'),\n",
       " ('allelectrons_Average', 'double'),\n",
       " ('val_e_Average', 'double'),\n",
       " ('atomicweight_Average', 'double'),\n",
       " ('ionenergy_Average', 'double'),\n",
       " ('el_neg_chi_Average', 'double'),\n",
       " ('R_vdw_element_Average', 'double'),\n",
       " ('R_cov_element_Average', 'double'),\n",
       " ('zaratio_Average', 'double'),\n",
       " ('density_Average', 'double'),\n",
       " ('Hardness', 'double')]"
      ]
     },
     "execution_count": 21,
     "metadata": {},
     "output_type": "execute_result"
    }
   ],
   "source": [
    "df.dtypes"
   ]
  },
  {
   "cell_type": "code",
   "execution_count": 22,
   "metadata": {},
   "outputs": [
    {
     "name": "stdout",
     "output_type": "stream",
     "text": [
      "+-------+-----------------+------------------+------------------+--------------------+------------------+--------------------+------------------+-------------------+---------------------+---------------------+------------------+------------------+------------------+\n",
      "|summary|               id|allelectrons_Total|     density_Total|allelectrons_Average|     val_e_Average|atomicweight_Average| ionenergy_Average| el_neg_chi_Average|R_vdw_element_Average|R_cov_element_Average|   zaratio_Average|   density_Average|          Hardness|\n",
      "+-------+-----------------+------------------+------------------+--------------------+------------------+--------------------+------------------+-------------------+---------------------+---------------------+------------------+------------------+------------------+\n",
      "|  count|            10407|             10407|             10407|               10407|             10407|               10407|             10407|              10407|                10407|                10407|             10407|             10407|             10407|\n",
      "|   mean|           5203.0|128.05351574260908|14.491341721362692|  17.033222237776137| 4.546788846423311|   37.50770275553392|10.938308296628422|  2.607662014097621|     1.73133019703984|    0.944132221165901|0.4933489059925337|2.1329837186509075|4.6471259729030185|\n",
      "| stddev|3004.386459828362|224.12377633813134|15.972876649669157|  10.468734074452252|0.6908635403394479|  26.012312988485462| 1.408275660128993|0.33490583699047893|  0.19248110690369294|  0.18001660357633925|0.0630800885816484|1.9366557597385576|1.6805253055230418|\n",
      "|    min|                0|               0.0|               0.0|                 0.0|               0.0|                 0.0|               0.0|                0.0|                  0.0|                  0.0|               0.0|               0.0|               1.0|\n",
      "|    max|            10406|           15300.0|       643.0938035|                67.0|               6.0|  167.39999999999995|          15.24581|              3.443|                 2.25|   1.6158400761542124|           0.82599|             10.97|              10.0|\n",
      "+-------+-----------------+------------------+------------------+--------------------+------------------+--------------------+------------------+-------------------+---------------------+---------------------+------------------+------------------+------------------+\n",
      "\n"
     ]
    }
   ],
   "source": [
    "df.describe().show()"
   ]
  },
  {
   "cell_type": "code",
   "execution_count": 23,
   "metadata": {},
   "outputs": [
    {
     "data": {
      "text/plain": [
       "\"\\nAdding a column :\\ndf = df.withColumn('new_column',df['column']*x)\\n\""
      ]
     },
     "execution_count": 23,
     "metadata": {},
     "output_type": "execute_result"
    }
   ],
   "source": [
    "'''\n",
    "Adding a column :\n",
    "df = df.withColumn('new_column',df['column']*x)\n",
    "'''"
   ]
  },
  {
   "cell_type": "code",
   "execution_count": 24,
   "metadata": {},
   "outputs": [
    {
     "name": "stdout",
     "output_type": "stream",
     "text": [
      "+------------------+------------------+--------------------+-----------------+--------------------+------------------+------------------+---------------------+---------------------+------------------+---------------+--------+\n",
      "|allelectrons_Total|     density_Total|allelectrons_Average|    val_e_Average|atomicweight_Average| ionenergy_Average|el_neg_chi_Average|R_vdw_element_Average|R_cov_element_Average|   zaratio_Average|density_Average|Hardness|\n",
      "+------------------+------------------+--------------------+-----------------+--------------------+------------------+------------------+---------------------+---------------------+------------------+---------------+--------+\n",
      "|             100.0|0.8416109999999999|                10.0|              4.8|          20.6125257|           11.0881|             2.766|                1.732|                 0.86|0.4960699999999999|        0.91457|     6.0|\n",
      "|             100.0|          7.558488|                10.0|              4.8|       20.2988926326|          12.04083|             2.755|   1.6309999999999998|                 0.91|          0.492719|         0.7176|     6.5|\n",
      "|              76.0|          8.885992|                15.6|              5.6|           33.739258|           12.0863|2.8280000000000003|   1.7880000000000005|   0.8640000000000001|          0.481478|        1.50633|     2.5|\n",
      "|             100.0|          8.795296|                10.0|              4.8|        20.213348778|           10.9485|             2.648|                1.626|                0.936|          0.489272|        0.78937|     6.0|\n",
      "|             116.0|          9.577996|                11.6|              4.8|        24.988133138|          11.82448|             2.766|                1.682|   0.8959999999999999|0.4927359999999999|        1.86481|     6.0|\n",
      "|             131.0|         24.529328|   21.83333333333333|4.666666666666667|             50.1315|           11.9482| 2.858333333333333|   1.7583333333333335|   0.8966666666666668|0.4663883333333334|        2.94712|     6.0|\n",
      "|              50.0|          3.253996|                10.0|              4.8|           20.077018|11.023840000000002|             2.727|                1.767|   0.8800000000000001|           0.49901|        0.80631|     2.0|\n",
      "|              30.0|        2.70174775|                 6.0|              4.0|           11.663548|          12.41584|             2.766|                1.495|                 0.71|         0.6184925|        0.41631|     4.0|\n",
      "|             120.0|            14.632|                12.0|              4.8|           24.808518|          11.33182|              2.87|               1.7185|                 0.91|0.4927359999999999|        1.96268|     6.0|\n",
      "|              97.0|         13.477328|             12.8125|              5.0|      24.98813313725|         11.037175|           2.81875|              1.60125|              0.88125|         0.4931925|        1.10889|     5.8|\n",
      "|              72.0|          6.697992|                 8.0|              4.6|  16.862137999999998|          11.79886|             2.648|                1.626|                0.912|          0.498984|        0.74322|     6.0|\n",
      "|             136.0|          8.109328|                11.0|4.333333333333333|   22.68885333333333|12.874275000000004|2.1466666666666665|   1.7133333333333336|                 0.92|0.4990741666666666|        0.75585|     5.5|\n",
      "|              14.0|          4.673996|                14.0|              4.0|  31.574635600000004|            9.8771|             2.115|                1.925|                 1.12|0.4776649999999999|         1.8288|     2.0|\n",
      "|              74.0|             14.22|                14.0|              4.0|           24.789618|            9.8771|             2.115|                1.905|                 1.12|           0.49897|         1.3513|     6.0|\n",
      "|             105.0|          5.203996|                10.0|              4.8|          20.3920334|          11.46526|             2.752|   1.7880000000000005|                0.946|          0.481478|        0.81244|     3.5|\n",
      "|             126.0|             13.35|                15.6|              4.4|           33.739258|          10.73364|             2.694|                1.925|                0.928|          0.489272|        1.96268|     6.0|\n",
      "|             214.0|            26.092|                22.4|              5.2|          53.4902975|          11.33044|2.8280000000000003|   1.7400000000000002|                 0.96|0.4775399999999999|        4.30067|     2.5|\n",
      "|              80.0|         3.7468275|                10.0|              4.5|       20.9940862215|         11.100835|               2.6|               1.7095|                 0.85|0.4912240000000001|        0.53898|     5.5|\n",
      "|              50.0| 8.505991999999999|                10.0|              4.8|       20.2988926326|10.565180000000002|2.7030000000000003|   1.6980000000000002|   0.8800000000000001|          0.496379|        0.68424|     5.5|\n",
      "|             112.0|         15.232328|   24.66666666666667|              6.0|            55.64164|11.239316666666667| 2.736666666666667|   1.7283333333333335|   0.9683333333333334|          0.477685|        3.11002|     4.5|\n",
      "+------------------+------------------+--------------------+-----------------+--------------------+------------------+------------------+---------------------+---------------------+------------------+---------------+--------+\n",
      "only showing top 20 rows\n",
      "\n"
     ]
    }
   ],
   "source": [
    "df.drop('id').show()"
   ]
  },
  {
   "cell_type": "code",
   "execution_count": 25,
   "metadata": {},
   "outputs": [
    {
     "name": "stdout",
     "output_type": "stream",
     "text": [
      "+---+------------------+------------------+--------------------+-----------------+--------------------+------------------+------------------+---------------------+---------------------+------------------+---------------+--------+\n",
      "| id|allelectrons_Total|     density_Total|allelectrons_Average|    val_e_Average|atomicweight_Average| ionenergy_Average|el_neg_chi_Average|R_vdw_element_Average|R_cov_element_Average|   zaratio_Average|density_Average|Hardness|\n",
      "+---+------------------+------------------+--------------------+-----------------+--------------------+------------------+------------------+---------------------+---------------------+------------------+---------------+--------+\n",
      "|  0|             100.0|0.8416109999999999|                10.0|              4.8|          20.6125257|           11.0881|             2.766|                1.732|                 0.86|0.4960699999999999|        0.91457|     6.0|\n",
      "|  1|             100.0|          7.558488|                10.0|              4.8|       20.2988926326|          12.04083|             2.755|   1.6309999999999998|                 0.91|          0.492719|         0.7176|     6.5|\n",
      "|  2|              76.0|          8.885992|                15.6|              5.6|           33.739258|           12.0863|2.8280000000000003|   1.7880000000000005|   0.8640000000000001|          0.481478|        1.50633|     2.5|\n",
      "|  3|             100.0|          8.795296|                10.0|              4.8|        20.213348778|           10.9485|             2.648|                1.626|                0.936|          0.489272|        0.78937|     6.0|\n",
      "|  4|             116.0|          9.577996|                11.6|              4.8|        24.988133138|          11.82448|             2.766|                1.682|   0.8959999999999999|0.4927359999999999|        1.86481|     6.0|\n",
      "|  5|             131.0|         24.529328|   21.83333333333333|4.666666666666667|             50.1315|           11.9482| 2.858333333333333|   1.7583333333333335|   0.8966666666666668|0.4663883333333334|        2.94712|     6.0|\n",
      "|  6|              50.0|          3.253996|                10.0|              4.8|           20.077018|11.023840000000002|             2.727|                1.767|   0.8800000000000001|           0.49901|        0.80631|     2.0|\n",
      "|  7|              30.0|        2.70174775|                 6.0|              4.0|           11.663548|          12.41584|             2.766|                1.495|                 0.71|         0.6184925|        0.41631|     4.0|\n",
      "|  8|             120.0|            14.632|                12.0|              4.8|           24.808518|          11.33182|              2.87|               1.7185|                 0.91|0.4927359999999999|        1.96268|     6.0|\n",
      "|  9|              97.0|         13.477328|             12.8125|              5.0|      24.98813313725|         11.037175|           2.81875|              1.60125|              0.88125|         0.4931925|        1.10889|     5.8|\n",
      "| 10|              72.0|          6.697992|                 8.0|              4.6|  16.862137999999998|          11.79886|             2.648|                1.626|                0.912|          0.498984|        0.74322|     6.0|\n",
      "| 11|             136.0|          8.109328|                11.0|4.333333333333333|   22.68885333333333|12.874275000000004|2.1466666666666665|   1.7133333333333336|                 0.92|0.4990741666666666|        0.75585|     5.5|\n",
      "| 12|              14.0|          4.673996|                14.0|              4.0|  31.574635600000004|            9.8771|             2.115|                1.925|                 1.12|0.4776649999999999|         1.8288|     2.0|\n",
      "| 13|              74.0|             14.22|                14.0|              4.0|           24.789618|            9.8771|             2.115|                1.905|                 1.12|           0.49897|         1.3513|     6.0|\n",
      "| 14|             105.0|          5.203996|                10.0|              4.8|          20.3920334|          11.46526|             2.752|   1.7880000000000005|                0.946|          0.481478|        0.81244|     3.5|\n",
      "| 15|             126.0|             13.35|                15.6|              4.4|           33.739258|          10.73364|             2.694|                1.925|                0.928|          0.489272|        1.96268|     6.0|\n",
      "| 16|             214.0|            26.092|                22.4|              5.2|          53.4902975|          11.33044|2.8280000000000003|   1.7400000000000002|                 0.96|0.4775399999999999|        4.30067|     2.5|\n",
      "| 17|              80.0|         3.7468275|                10.0|              4.5|       20.9940862215|         11.100835|               2.6|               1.7095|                 0.85|0.4912240000000001|        0.53898|     5.5|\n",
      "| 18|              50.0| 8.505991999999999|                10.0|              4.8|       20.2988926326|10.565180000000002|2.7030000000000003|   1.6980000000000002|   0.8800000000000001|          0.496379|        0.68424|     5.5|\n",
      "| 19|             112.0|         15.232328|   24.66666666666667|              6.0|            55.64164|11.239316666666667| 2.736666666666667|   1.7283333333333335|   0.9683333333333334|          0.477685|        3.11002|     4.5|\n",
      "+---+------------------+------------------+--------------------+-----------------+--------------------+------------------+------------------+---------------------+---------------------+------------------+---------------+--------+\n",
      "only showing top 20 rows\n",
      "\n"
     ]
    }
   ],
   "source": [
    "df.show()"
   ]
  },
  {
   "cell_type": "code",
   "execution_count": 26,
   "metadata": {},
   "outputs": [],
   "source": [
    "df = df.drop('id')"
   ]
  },
  {
   "cell_type": "code",
   "execution_count": 27,
   "metadata": {},
   "outputs": [
    {
     "name": "stdout",
     "output_type": "stream",
     "text": [
      "+------------------+------------------+--------------------+-----------------+--------------------+------------------+------------------+---------------------+---------------------+------------------+---------------+--------+\n",
      "|allelectrons_Total|     density_Total|allelectrons_Average|    val_e_Average|atomicweight_Average| ionenergy_Average|el_neg_chi_Average|R_vdw_element_Average|R_cov_element_Average|   zaratio_Average|density_Average|Hardness|\n",
      "+------------------+------------------+--------------------+-----------------+--------------------+------------------+------------------+---------------------+---------------------+------------------+---------------+--------+\n",
      "|             100.0|0.8416109999999999|                10.0|              4.8|          20.6125257|           11.0881|             2.766|                1.732|                 0.86|0.4960699999999999|        0.91457|     6.0|\n",
      "|             100.0|          7.558488|                10.0|              4.8|       20.2988926326|          12.04083|             2.755|   1.6309999999999998|                 0.91|          0.492719|         0.7176|     6.5|\n",
      "|              76.0|          8.885992|                15.6|              5.6|           33.739258|           12.0863|2.8280000000000003|   1.7880000000000005|   0.8640000000000001|          0.481478|        1.50633|     2.5|\n",
      "|             100.0|          8.795296|                10.0|              4.8|        20.213348778|           10.9485|             2.648|                1.626|                0.936|          0.489272|        0.78937|     6.0|\n",
      "|             116.0|          9.577996|                11.6|              4.8|        24.988133138|          11.82448|             2.766|                1.682|   0.8959999999999999|0.4927359999999999|        1.86481|     6.0|\n",
      "|             131.0|         24.529328|   21.83333333333333|4.666666666666667|             50.1315|           11.9482| 2.858333333333333|   1.7583333333333335|   0.8966666666666668|0.4663883333333334|        2.94712|     6.0|\n",
      "|              50.0|          3.253996|                10.0|              4.8|           20.077018|11.023840000000002|             2.727|                1.767|   0.8800000000000001|           0.49901|        0.80631|     2.0|\n",
      "|              30.0|        2.70174775|                 6.0|              4.0|           11.663548|          12.41584|             2.766|                1.495|                 0.71|         0.6184925|        0.41631|     4.0|\n",
      "|             120.0|            14.632|                12.0|              4.8|           24.808518|          11.33182|              2.87|               1.7185|                 0.91|0.4927359999999999|        1.96268|     6.0|\n",
      "|              97.0|         13.477328|             12.8125|              5.0|      24.98813313725|         11.037175|           2.81875|              1.60125|              0.88125|         0.4931925|        1.10889|     5.8|\n",
      "|              72.0|          6.697992|                 8.0|              4.6|  16.862137999999998|          11.79886|             2.648|                1.626|                0.912|          0.498984|        0.74322|     6.0|\n",
      "|             136.0|          8.109328|                11.0|4.333333333333333|   22.68885333333333|12.874275000000004|2.1466666666666665|   1.7133333333333336|                 0.92|0.4990741666666666|        0.75585|     5.5|\n",
      "|              14.0|          4.673996|                14.0|              4.0|  31.574635600000004|            9.8771|             2.115|                1.925|                 1.12|0.4776649999999999|         1.8288|     2.0|\n",
      "|              74.0|             14.22|                14.0|              4.0|           24.789618|            9.8771|             2.115|                1.905|                 1.12|           0.49897|         1.3513|     6.0|\n",
      "|             105.0|          5.203996|                10.0|              4.8|          20.3920334|          11.46526|             2.752|   1.7880000000000005|                0.946|          0.481478|        0.81244|     3.5|\n",
      "|             126.0|             13.35|                15.6|              4.4|           33.739258|          10.73364|             2.694|                1.925|                0.928|          0.489272|        1.96268|     6.0|\n",
      "|             214.0|            26.092|                22.4|              5.2|          53.4902975|          11.33044|2.8280000000000003|   1.7400000000000002|                 0.96|0.4775399999999999|        4.30067|     2.5|\n",
      "|              80.0|         3.7468275|                10.0|              4.5|       20.9940862215|         11.100835|               2.6|               1.7095|                 0.85|0.4912240000000001|        0.53898|     5.5|\n",
      "|              50.0| 8.505991999999999|                10.0|              4.8|       20.2988926326|10.565180000000002|2.7030000000000003|   1.6980000000000002|   0.8800000000000001|          0.496379|        0.68424|     5.5|\n",
      "|             112.0|         15.232328|   24.66666666666667|              6.0|            55.64164|11.239316666666667| 2.736666666666667|   1.7283333333333335|   0.9683333333333334|          0.477685|        3.11002|     4.5|\n",
      "+------------------+------------------+--------------------+-----------------+--------------------+------------------+------------------+---------------------+---------------------+------------------+---------------+--------+\n",
      "only showing top 20 rows\n",
      "\n"
     ]
    }
   ],
   "source": [
    "df.show()"
   ]
  },
  {
   "cell_type": "code",
   "execution_count": 28,
   "metadata": {},
   "outputs": [
    {
     "data": {
      "text/plain": [
       "\"\\nRenaming a column\\ndf = df.withColumnRenamed('old_name' , 'new_name')\\n\""
      ]
     },
     "execution_count": 28,
     "metadata": {},
     "output_type": "execute_result"
    }
   ],
   "source": [
    "'''\n",
    "Renaming a column\n",
    "df = df.withColumnRenamed('old_name' , 'new_name')\n",
    "'''"
   ]
  },
  {
   "cell_type": "code",
   "execution_count": 29,
   "metadata": {},
   "outputs": [
    {
     "data": {
      "text/plain": [
       "'\\nDropping missing values :\\ndf = df.na.drop(how , thresh , subset) -> Drops all rows with missing values\\n'"
      ]
     },
     "execution_count": 29,
     "metadata": {},
     "output_type": "execute_result"
    }
   ],
   "source": [
    "'''\n",
    "Dropping missing values :\n",
    "df = df.na.drop(how , thresh , subset) -> Drops all rows with missing values\n",
    "'''"
   ]
  },
  {
   "cell_type": "code",
   "execution_count": 30,
   "metadata": {},
   "outputs": [
    {
     "data": {
      "text/plain": [
       "\"\\nFilling missing values :\\ndf = df.na.fill('Missing Values') -> replaces NaN values with 'Missing Values\\ndf = df.na.fill('Missing Values' , [column1 ... columnk])\\n\""
      ]
     },
     "execution_count": 30,
     "metadata": {},
     "output_type": "execute_result"
    }
   ],
   "source": [
    "'''\n",
    "Filling missing values :\n",
    "df = df.na.fill('Missing Values') -> replaces NaN values with 'Missing Values\n",
    "df = df.na.fill('Missing Values' , [column1 ... columnk])\n",
    "'''"
   ]
  },
  {
   "cell_type": "code",
   "execution_count": 31,
   "metadata": {},
   "outputs": [
    {
     "data": {
      "text/plain": [
       "'\\nImputer : \\nfrom pyspark.ml.feature import Imputer\\n\\nimputer = Imputer(\\n    inputCols=[column1 ... columnk], \\n    outputCols=[\"{}_imputed\".format(c) for c in [column1 ... columnk]]\\n    ).setStrategy(\"median\")\\n\\nimputer.fit(df_pyspark).transform(df_pyspark).show()\\n'"
      ]
     },
     "execution_count": 31,
     "metadata": {},
     "output_type": "execute_result"
    }
   ],
   "source": [
    "'''\n",
    "Imputer : \n",
    "from pyspark.ml.feature import Imputer\n",
    "\n",
    "imputer = Imputer(\n",
    "    inputCols=[column1 ... columnk], \n",
    "    outputCols=[\"{}_imputed\".format(c) for c in [column1 ... columnk]]\n",
    "    ).setStrategy(\"median\")\n",
    "\n",
    "imputer.fit(df_pyspark).transform(df_pyspark).show()\n",
    "'''"
   ]
  },
  {
   "cell_type": "code",
   "execution_count": 32,
   "metadata": {},
   "outputs": [
    {
     "name": "stdout",
     "output_type": "stream",
     "text": [
      "+------------------+------------------+\n",
      "|allelectrons_Total|     density_Total|\n",
      "+------------------+------------------+\n",
      "|              76.0|          8.885992|\n",
      "|              50.0|          3.253996|\n",
      "|              30.0|        2.70174775|\n",
      "|              97.0|         13.477328|\n",
      "|             136.0|          8.109328|\n",
      "|              14.0|          4.673996|\n",
      "|             105.0|          5.203996|\n",
      "|             214.0|            26.092|\n",
      "|              80.0|         3.7468275|\n",
      "|              50.0| 8.505991999999999|\n",
      "|             112.0|         15.232328|\n",
      "|             884.0|160.28400000000005|\n",
      "|               0.0|  0.75543333333333|\n",
      "|              58.0|11.463996000000002|\n",
      "|             126.0|          12.56632|\n",
      "|              90.0|         11.354575|\n",
      "|             286.0|         40.747992|\n",
      "|             100.0|             15.55|\n",
      "|              50.0|          3.253996|\n",
      "|              96.0|           8.42666|\n",
      "+------------------+------------------+\n",
      "only showing top 20 rows\n",
      "\n"
     ]
    }
   ],
   "source": [
    "# Filter operations\n",
    "df.filter('Hardness<6.0').select(['allelectrons_Total','density_Total']).show()"
   ]
  },
  {
   "cell_type": "code",
   "execution_count": 33,
   "metadata": {},
   "outputs": [
    {
     "name": "stdout",
     "output_type": "stream",
     "text": [
      "+------------------+------------------+--------------------+-----------------+--------------------+------------------+------------------+---------------------+---------------------+------------------+---------------+--------+\n",
      "|allelectrons_Total|     density_Total|allelectrons_Average|    val_e_Average|atomicweight_Average| ionenergy_Average|el_neg_chi_Average|R_vdw_element_Average|R_cov_element_Average|   zaratio_Average|density_Average|Hardness|\n",
      "+------------------+------------------+--------------------+-----------------+--------------------+------------------+------------------+---------------------+---------------------+------------------+---------------+--------+\n",
      "|             100.0|0.8416109999999999|                10.0|              4.8|          20.6125257|           11.0881|             2.766|                1.732|                 0.86|0.4960699999999999|        0.91457|     6.0|\n",
      "|              76.0|          8.885992|                15.6|              5.6|           33.739258|           12.0863|2.8280000000000003|   1.7880000000000005|   0.8640000000000001|          0.481478|        1.50633|     2.5|\n",
      "|             100.0|          8.795296|                10.0|              4.8|        20.213348778|           10.9485|             2.648|                1.626|                0.936|          0.489272|        0.78937|     6.0|\n",
      "|             116.0|          9.577996|                11.6|              4.8|        24.988133138|          11.82448|             2.766|                1.682|   0.8959999999999999|0.4927359999999999|        1.86481|     6.0|\n",
      "|             131.0|         24.529328|   21.83333333333333|4.666666666666667|             50.1315|           11.9482| 2.858333333333333|   1.7583333333333335|   0.8966666666666668|0.4663883333333334|        2.94712|     6.0|\n",
      "|              50.0|          3.253996|                10.0|              4.8|           20.077018|11.023840000000002|             2.727|                1.767|   0.8800000000000001|           0.49901|        0.80631|     2.0|\n",
      "|              30.0|        2.70174775|                 6.0|              4.0|           11.663548|          12.41584|             2.766|                1.495|                 0.71|         0.6184925|        0.41631|     4.0|\n",
      "|             120.0|            14.632|                12.0|              4.8|           24.808518|          11.33182|              2.87|               1.7185|                 0.91|0.4927359999999999|        1.96268|     6.0|\n",
      "|              97.0|         13.477328|             12.8125|              5.0|      24.98813313725|         11.037175|           2.81875|              1.60125|              0.88125|         0.4931925|        1.10889|     5.8|\n",
      "|              72.0|          6.697992|                 8.0|              4.6|  16.862137999999998|          11.79886|             2.648|                1.626|                0.912|          0.498984|        0.74322|     6.0|\n",
      "|             136.0|          8.109328|                11.0|4.333333333333333|   22.68885333333333|12.874275000000004|2.1466666666666665|   1.7133333333333336|                 0.92|0.4990741666666666|        0.75585|     5.5|\n",
      "|              14.0|          4.673996|                14.0|              4.0|  31.574635600000004|            9.8771|             2.115|                1.925|                 1.12|0.4776649999999999|         1.8288|     2.0|\n",
      "|              74.0|             14.22|                14.0|              4.0|           24.789618|            9.8771|             2.115|                1.905|                 1.12|           0.49897|         1.3513|     6.0|\n",
      "|             105.0|          5.203996|                10.0|              4.8|          20.3920334|          11.46526|             2.752|   1.7880000000000005|                0.946|          0.481478|        0.81244|     3.5|\n",
      "|             126.0|             13.35|                15.6|              4.4|           33.739258|          10.73364|             2.694|                1.925|                0.928|          0.489272|        1.96268|     6.0|\n",
      "|             214.0|            26.092|                22.4|              5.2|          53.4902975|          11.33044|2.8280000000000003|   1.7400000000000002|                 0.96|0.4775399999999999|        4.30067|     2.5|\n",
      "|              80.0|         3.7468275|                10.0|              4.5|       20.9940862215|         11.100835|               2.6|               1.7095|                 0.85|0.4912240000000001|        0.53898|     5.5|\n",
      "|              50.0| 8.505991999999999|                10.0|              4.8|       20.2988926326|10.565180000000002|2.7030000000000003|   1.6980000000000002|   0.8800000000000001|          0.496379|        0.68424|     5.5|\n",
      "|             112.0|         15.232328|   24.66666666666667|              6.0|            55.64164|11.239316666666667| 2.736666666666667|   1.7283333333333335|   0.9683333333333334|          0.477685|        3.11002|     4.5|\n",
      "|             105.0|           8.42666|                10.0|              4.8|           21.989468|10.565180000000002|             2.755|   1.7120000000000002|                 0.86|0.4930319999999999|        0.59473|     6.0|\n",
      "+------------------+------------------+--------------------+-----------------+--------------------+------------------+------------------+---------------------+---------------------+------------------+---------------+--------+\n",
      "only showing top 20 rows\n",
      "\n"
     ]
    }
   ],
   "source": [
    "df.filter(df['Hardness']<=6.0).show()"
   ]
  },
  {
   "cell_type": "code",
   "execution_count": 34,
   "metadata": {},
   "outputs": [
    {
     "name": "stdout",
     "output_type": "stream",
     "text": [
      "+------------------+------------------+--------------------+------------------+--------------------+------------------+------------------+---------------------+---------------------+------------------+---------------+--------+\n",
      "|allelectrons_Total|     density_Total|allelectrons_Average|     val_e_Average|atomicweight_Average| ionenergy_Average|el_neg_chi_Average|R_vdw_element_Average|R_cov_element_Average|   zaratio_Average|density_Average|Hardness|\n",
      "+------------------+------------------+--------------------+------------------+--------------------+------------------+------------------+---------------------+---------------------+------------------+---------------+--------+\n",
      "|             100.0|0.8416109999999999|                10.0|               4.8|          20.6125257|           11.0881|             2.766|                1.732|                 0.86|0.4960699999999999|        0.91457|     6.0|\n",
      "|             105.0|          5.203996|                10.0|               4.8|          20.3920334|          11.46526|             2.752|   1.7880000000000005|                0.946|          0.481478|        0.81244|     3.5|\n",
      "|             362.0|          3.883996|                 8.7|               4.7|  16.862137999999998|          11.95216|             2.682|                1.495|                 0.71|          0.491678|        0.61167|     5.5|\n",
      "|             108.0|1.7957991999999998|                10.8|               4.8|         21.82420185|11.023840000000002|             2.644|                1.794|                 0.96|          0.499514|        0.79955|     5.8|\n",
      "|             100.0|          5.203996|                10.0|               4.8|       20.2988926326|          11.17714|             2.755|   1.6309999999999998|                 0.86|0.4927389999999999|        0.67383|     5.5|\n",
      "|             100.0|          5.203996|                10.0|               4.8|       20.9941265318|          12.59399|             2.675|                1.736|                0.964|          0.475954|        0.49717|     2.5|\n",
      "|             100.0|        3.18390975|   8.333333333333334| 4.333333333333333|  16.583821666666665|10.296858333333333|             2.595|   1.5508333333333333|                 0.95|0.5654908333333334|        0.53649|     5.5|\n",
      "|             222.0|          5.401996|                8.96|               4.8|  17.790440179910046|  11.8776349999998|             2.644|   1.7080000000000002|                0.792|         0.5368794|        0.75041|     6.0|\n",
      "|             128.0|              4.03|                12.8|               4.8|           26.385218|          11.38168|              2.81|   1.7400000000000002|                 1.02|           0.49282|        0.41631|     5.5|\n",
      "|             126.0|4.6148215000000015|   7.411764705882352|3.7647058823529416|  14.643973529411769|12.484211764705885|2.6558823529411764|    1.486470588235294|   0.6964705882352941|0.6712364705882353|         0.5852|     2.8|\n",
      "|             100.0|           5.62148|                10.0|              4.16|       20.9941265318|          12.59399|            2.7136|   1.5460000000000005|               0.7152|0.6164428000000001|        0.61805|     2.5|\n",
      "|             106.0| 5.230979499999999|                 9.5|3.9166666666666665|       18.5045363965|12.874275000000004|2.5641666666666665|                1.598|   0.7166666666666668|0.6598700000000001|        0.64563|     4.0|\n",
      "|             439.0|0.7558488000000001|   7.568965517241379|4.2586206896551735|  14.963319591034482|12.261489655172417| 2.768793103448276|   1.4634332833583208|   0.6862068965517241|0.6175377586206897|        0.62275|     3.5|\n",
      "|             106.0|          5.203996|                10.4|               4.6|       21.0615472413|           11.0881|2.8360000000000003|   1.7400000000000002|                 0.86|0.4960699999999999|        0.27146|     6.0|\n",
      "|             110.0|          3.555328|   4.666666666666667|3.6666666666666665|   8.808713333333333|          13.51252|             2.668|   1.3186666666666669|   0.5053333333333333|0.7623686666666668|        0.40319|     2.3|\n",
      "|             180.0|2.5363280000000006|                 9.0|               4.8|       18.5465357192|         12.299314|            2.8355|               1.6728|   0.8808000000000001|          0.495329|        0.49084|     1.8|\n",
      "|             110.0|          3.555328|   4.666666666666667|               3.2|   8.808713333333333|          13.51252|2.4133333333333336|   1.3186666666666669|   0.5053333333333333|0.7623686666666668|        0.43591|     2.3|\n",
      "|             258.0| 5.815328000000001|   11.61904761904762| 4.714285714285714|  24.135015142857146|11.582328571428572| 2.857619047619047|   1.6900000000000002|   0.8576190476190477|0.5198571428571429|         0.6278|     5.8|\n",
      "|             233.0|        3.94991025|                 7.4|3.5454545454545454|        14.996859625| 12.08220909090909|2.7384090909090912|   1.5663636363636364|   0.7063636363636363|0.4991960000000001|         0.8506|     5.0|\n",
      "|             100.0|          5.203996|                10.0|               4.8|       20.9941265318|10.600980000000002|             2.752|   1.7400000000000002|                0.964|0.4927189999999999|        0.88802|     6.0|\n",
      "+------------------+------------------+--------------------+------------------+--------------------+------------------+------------------+---------------------+---------------------+------------------+---------------+--------+\n",
      "only showing top 20 rows\n",
      "\n"
     ]
    }
   ],
   "source": [
    "df.filter((df['allelectrons_Total']>=100.0) & (df['density_Total']<=6.0)).show()"
   ]
  },
  {
   "cell_type": "code",
   "execution_count": 35,
   "metadata": {},
   "outputs": [
    {
     "name": "stdout",
     "output_type": "stream",
     "text": [
      "+------------------+------------------+--------------------+------------------+--------------------+------------------+------------------+---------------------+---------------------+------------------+---------------+--------+\n",
      "|allelectrons_Total|     density_Total|allelectrons_Average|     val_e_Average|atomicweight_Average| ionenergy_Average|el_neg_chi_Average|R_vdw_element_Average|R_cov_element_Average|   zaratio_Average|density_Average|Hardness|\n",
      "+------------------+------------------+--------------------+------------------+--------------------+------------------+------------------+---------------------+---------------------+------------------+---------------+--------+\n",
      "|             100.0|          7.558488|                10.0|               4.8|       20.2988926326|          12.04083|             2.755|   1.6309999999999998|                 0.91|          0.492719|         0.7176|     6.5|\n",
      "|             128.0|11.463996000000002|                12.8|               4.8|           26.385218|          11.38168|              2.81|   1.7400000000000002|                 0.86|           0.49282|        1.26278|     6.3|\n",
      "|             100.0|          8.841328|                10.0| 5.333333333333333|  20.325236749666672|11.754416666666666| 2.938333333333333|   1.7166666666666668|   0.8933333333333332|0.4966916666666667|         0.8488|     6.5|\n",
      "|              80.0|          5.686908|                10.0|               5.0|        20.255278375|          11.70255|              2.79|                 1.66|               0.8525|         0.4931925|        0.86162|     6.3|\n",
      "|              30.0|2.3326640000000003|  10.333333333333334| 5.333333333333333|   20.02735333333333|11.795966666666668|2.9266666666666663|   1.7133333333333336|   0.8066666666666666|0.4995066666666667|        1.42823|     7.0|\n",
      "|              58.0| 7.441332000000001|                18.0|               5.0|           39.466738|          10.59066|             2.545|                1.765|                0.905|          0.476095|        1.05605|     7.3|\n",
      "|              80.0| 7.734660000000001|                10.0|               4.0|        20.255278375|         11.026725|              2.79|               1.6725|               0.8525|          0.495275|        1.02525|     7.5|\n",
      "|               6.0|               1.7|                 6.0|               4.0|           11.663548|          11.70255|              2.58|                1.495|                 0.71|           0.49954|        0.58543|    10.0|\n",
      "|              80.0| 7.734660000000001|                10.0|               5.0|        20.255278375|         11.026725|              2.79|               1.6725|               0.8525|          0.495275|        0.73425|     7.5|\n",
      "|               6.0|               1.7|                 6.0|               4.0|             12.0096|           11.2603|              2.55|                  1.7|                 0.75|           0.49954|        0.13266|    10.0|\n",
      "|              80.0|          7.736488|   8.888888888888891|4.4444444444444455|  17.774554444444444|11.458755555555555|2.8522222222222213|   1.7266666666666666|   0.8277777777777778|0.4801544444444445|        1.06784|     8.5|\n",
      "|              38.0|          8.359328|  18.666666666666668| 5.333333333333333|   41.08166000000001|11.354766666666668| 2.806666666666666|   1.7233333333333334|                 0.92|0.4865066666666666|         2.8386|     6.5|\n",
      "|              38.0|         10.082327|  12.666666666666664| 4.666666666666667|  26.621686666666665|11.496916666666666|2.8249999999999997|   1.7266666666666666|   0.8083333333333332|0.4865066666666666|        1.31763|     6.3|\n",
      "|              92.0|         10.207992|                11.3|              4.75|           22.212725|          10.93895|             2.755|   1.7420000000000002|                 0.91|0.4907199999999999|        0.93396|     6.8|\n",
      "|              52.0|          4.073996|   9.857142857142858| 4.571428571428571|       18.5863611398| 11.38162857142858| 2.661428571428572|   1.6128571428571428|   0.8614285714285715| 0.486791428571429|        0.81739|     7.8|\n",
      "|              72.0|         10.803992|                14.0|               5.0|            30.61252|           10.6397|2.8680000000000003|                  1.7|               0.8525|           0.48502|        1.05428|     7.5|\n",
      "|             200.0|          7.767992|                 7.4|               4.4|         15.69310028|          10.73364|2.7380000000000004|       1.550999999995|                0.642|         0.6456218|         0.4325|     6.8|\n",
      "|             131.0|         18.952664|   21.83333333333333| 4.333333333333333|   49.50308166666667|11.711716666666668|2.9466666666666668|                1.736|   0.9483333333333334|0.4758883333333334|        4.57578|     6.5|\n",
      "|              72.0| 4.075328000000002|  13.333333333333336| 4.666666666666667|   27.95135333333333|          11.33182|             2.855|                  1.7|   0.8799999999999999|  0.48824999999999|        1.05333|     6.3|\n",
      "|             146.0|          8.862328|                24.5|               5.0|         68.16233625|           11.6104|2.8487500000000003|             1.788125|              0.94625|          0.468765|        1.86069|     6.5|\n",
      "+------------------+------------------+--------------------+------------------+--------------------+------------------+------------------+---------------------+---------------------+------------------+---------------+--------+\n",
      "only showing top 20 rows\n",
      "\n"
     ]
    }
   ],
   "source": [
    "df.filter(~(df['Hardness']<=6.0)).show()"
   ]
  },
  {
   "cell_type": "code",
   "execution_count": 36,
   "metadata": {},
   "outputs": [
    {
     "name": "stdout",
     "output_type": "stream",
     "text": [
      "+--------+-----------------------+------------------+-------------------------+------------------+-------------------------+----------------------+-----------------------+--------------------------+--------------------------+--------------------+--------------------+------------------+\n",
      "|Hardness|sum(allelectrons_Total)|sum(density_Total)|sum(allelectrons_Average)|sum(val_e_Average)|sum(atomicweight_Average)|sum(ionenergy_Average)|sum(el_neg_chi_Average)|sum(R_vdw_element_Average)|sum(R_cov_element_Average)|sum(zaratio_Average)|sum(density_Average)|     sum(Hardness)|\n",
      "+--------+-----------------------+------------------+-------------------------+------------------+-------------------------+----------------------+-----------------------+--------------------------+--------------------------+--------------------+--------------------+------------------+\n",
      "|     8.0|                 1494.0|134.85267025000002|       143.21515151515152|56.279826839826846|       311.45470270560895|     137.5192695007215|      32.85248802308802|        19.970569264069265|        10.473580303030303|   6.091550738816739|  15.404050000000002|              96.0|\n",
      "|     5.4|                  102.0|        10.9728255|       12.666666666666664| 4.666666666666667|             26.024935442|    11.522283333333334|      2.806666666666666|        1.7166666666666668|                      0.92|  0.4821566666666666|             1.07245|               5.4|\n",
      "|     7.0|                11195.0| 959.7726191166663|        989.5497751124436|463.76124150607853|       2017.7833969399376|    1082.3360866866315|      265.4569501207501|        162.06148870203486|         83.41856101106957|   48.06419469284286|   88.88018000000002|             672.0|\n",
      "|     3.5|              36666.719| 3453.667868500003|        4385.367101112093|1204.7360108311536|        9658.686211371329|    2905.3049285445013|      686.9877423529255|        442.79838251939384|        237.87597324606182|   128.9382392138543|   534.6038600000002|             913.5|\n",
      "|     9.5|                 1074.0|117.57178750000001|        262.8666666666667|             106.2|           533.6404800465|     266.9605516666666|      61.74633333333335|         44.03883333333333|        23.596833333333336|  12.551451000000002|   26.20445000000001|             237.5|\n",
      "|     2.9|                  688.0| 70.96580250000001|       101.21666666666665|23.887878787878734|       228.77749047313335|    58.918534666666666|     13.138060606060606|          9.11239393939394|         4.644909090909091|   2.402493787878788|             12.6728|              14.5|\n",
      "|     4.5|     12859.380000000001|1534.6029242500001|       1499.2911534276266|  423.849138721902|        3336.645005617204|    1036.7143450878718|     248.18722581537082|        156.75097217898028|         85.55258784186749|   47.20716012583806|  207.98277999999996|             436.5|\n",
      "|     6.7|                  228.0|        30.2908235|                     31.5|               4.5|             70.861923125|              9.300975|                   2.24|                    1.9325|                    1.2075|  0.4660609999999999|               6.313|               6.7|\n",
      "|     2.3|     34305.100000000006|      4772.8832227|        7458.295901267789|1266.8841543070214|       17250.732878021696|     3089.366776478324|      724.5411851676378|         525.0740496786798|         299.4966176613692|   144.9696643666971|  1050.9380099999994| 671.5999999999987|\n",
      "|     6.5|               47251.97| 4934.313997099996|        5348.254381800808|1871.6641750255114|       11438.017735722673|     4456.452719559767|     1076.2229619970772|          676.557369651263|        359.89822557155026|  194.96447637833302|   585.5183000000005|            2580.5|\n",
      "|     2.5|     158732.49333333332|20964.209801413315|        27584.06583995703| 4793.365201296092|        63264.24599260445|     11607.43454348084|      2719.998120747605|        1937.9730040503869|         1106.624241303584|   536.8129783120258|          3779.20532|            2722.5|\n",
      "|     1.0|                  538.0|162.80200000000002|        71.25142428785608| 8.739130434782608|       168.44215017206096|     21.09343411764706|      4.915008884940027|        3.6070479786761442|        2.7358400761542123|  0.9300432608695652|             9.75864|               2.0|\n",
      "|     9.8|                  100.0|        4.70174775|                     10.0|               4.8|             20.213348778|    11.023840000000002|                 2.5712|        1.8200000000000005|                     0.956|             0.49282|             0.96683|               9.8|\n",
      "|     4.1|                   42.0|           8.42666|                      9.0|               4.8|              18.78740068|              12.20004|                  2.694|        1.5419999999999998|        0.7380000000000001|  0.5900399999999999|             1.70947|               4.1|\n",
      "|     2.2|                  108.0|            19.334|        31.33333333333333|2.6666666666666665|              70.92449475|                9.5408|     1.9766666666666663|        1.9066666666666665|        1.1933333333333334|  0.4568033333333333|             6.44467|               2.2|\n",
      "|     2.8|      82509.79999999999| 8783.203661749985|        7837.994756711143| 1801.926541710509|       17641.041284267783|     4284.462602276069|     1011.3535113072356|         670.9438507914524|        368.85682807414673|  193.72209097975175|          1048.82616|1083.5999999999922|\n",
      "|     4.0|              31723.401| 3635.605763333338|        5326.640566372698|1604.8047182739244|       11347.447886034324|     4076.344713191851|      944.6541617493349|         629.9592985319039|        345.89433445013407|   190.6072288857471|           619.43969|            1480.0|\n",
      "|     7.5|                 8703.0| 782.5583067499996|       1009.9063278393908| 459.6334815592905|       2077.2176968338854|     1100.180852115797|     266.54973460976936|         163.3731569730924|         85.06714157658888|   49.45602010173779|            96.56225|             735.0|\n",
      "|     6.2|                  821.0|         78.582791|       140.66666666666666| 46.27777777777778|              296.7092935|    113.00480555555555|     27.372222222222224|                     17.39|         9.627777777777776|   4.823781666666666|            13.47652|62.000000000000014|\n",
      "|     3.8|                86580.0|11444.056764749981|        13478.56323078164| 3153.279188130045|       29888.450983832594|     7671.118895411999|      1807.539337914547|         1252.379168470216|          700.243885070224|   352.5940472015399|  1927.8123800000012|2705.6000000000145|\n",
      "+--------+-----------------------+------------------+-------------------------+------------------+-------------------------+----------------------+-----------------------+--------------------------+--------------------------+--------------------+--------------------+------------------+\n",
      "only showing top 20 rows\n",
      "\n"
     ]
    }
   ],
   "source": [
    "# GroupBy\n",
    "df.groupBy('Hardness').sum().show()"
   ]
  },
  {
   "cell_type": "code",
   "execution_count": 37,
   "metadata": {},
   "outputs": [
    {
     "data": {
      "text/plain": [
       "['allelectrons_Total',\n",
       " 'density_Total',\n",
       " 'allelectrons_Average',\n",
       " 'val_e_Average',\n",
       " 'atomicweight_Average',\n",
       " 'ionenergy_Average',\n",
       " 'el_neg_chi_Average',\n",
       " 'R_vdw_element_Average',\n",
       " 'R_cov_element_Average',\n",
       " 'zaratio_Average',\n",
       " 'density_Average',\n",
       " 'Hardness']"
      ]
     },
     "execution_count": 37,
     "metadata": {},
     "output_type": "execute_result"
    }
   ],
   "source": [
    "df.columns"
   ]
  },
  {
   "cell_type": "markdown",
   "metadata": {},
   "source": [
    "# Regression"
   ]
  },
  {
   "cell_type": "code",
   "execution_count": 38,
   "metadata": {},
   "outputs": [],
   "source": [
    "from pyspark.ml.feature import VectorAssembler\n",
    "fa = VectorAssembler(inputCols=['allelectrons_Total',\n",
    " 'density_Total',\n",
    " 'allelectrons_Average',\n",
    " 'val_e_Average',\n",
    " 'atomicweight_Average',\n",
    " 'ionenergy_Average',\n",
    " 'el_neg_chi_Average',\n",
    " 'R_vdw_element_Average',\n",
    " 'R_cov_element_Average',\n",
    " 'zaratio_Average',\n",
    " 'density_Average'] , outputCol='X')"
   ]
  },
  {
   "cell_type": "code",
   "execution_count": 39,
   "metadata": {},
   "outputs": [],
   "source": [
    "out = fa.transform(df)"
   ]
  },
  {
   "cell_type": "code",
   "execution_count": 40,
   "metadata": {},
   "outputs": [
    {
     "name": "stdout",
     "output_type": "stream",
     "text": [
      "+------------------+------------------+--------------------+-----------------+--------------------+------------------+------------------+---------------------+---------------------+------------------+---------------+--------+--------------------+\n",
      "|allelectrons_Total|     density_Total|allelectrons_Average|    val_e_Average|atomicweight_Average| ionenergy_Average|el_neg_chi_Average|R_vdw_element_Average|R_cov_element_Average|   zaratio_Average|density_Average|Hardness|                   X|\n",
      "+------------------+------------------+--------------------+-----------------+--------------------+------------------+------------------+---------------------+---------------------+------------------+---------------+--------+--------------------+\n",
      "|             100.0|0.8416109999999999|                10.0|              4.8|          20.6125257|           11.0881|             2.766|                1.732|                 0.86|0.4960699999999999|        0.91457|     6.0|[100.0,0.84161099...|\n",
      "|             100.0|          7.558488|                10.0|              4.8|       20.2988926326|          12.04083|             2.755|   1.6309999999999998|                 0.91|          0.492719|         0.7176|     6.5|[100.0,7.558488,1...|\n",
      "|              76.0|          8.885992|                15.6|              5.6|           33.739258|           12.0863|2.8280000000000003|   1.7880000000000005|   0.8640000000000001|          0.481478|        1.50633|     2.5|[76.0,8.885992,15...|\n",
      "|             100.0|          8.795296|                10.0|              4.8|        20.213348778|           10.9485|             2.648|                1.626|                0.936|          0.489272|        0.78937|     6.0|[100.0,8.795296,1...|\n",
      "|             116.0|          9.577996|                11.6|              4.8|        24.988133138|          11.82448|             2.766|                1.682|   0.8959999999999999|0.4927359999999999|        1.86481|     6.0|[116.0,9.577996,1...|\n",
      "|             131.0|         24.529328|   21.83333333333333|4.666666666666667|             50.1315|           11.9482| 2.858333333333333|   1.7583333333333335|   0.8966666666666668|0.4663883333333334|        2.94712|     6.0|[131.0,24.529328,...|\n",
      "|              50.0|          3.253996|                10.0|              4.8|           20.077018|11.023840000000002|             2.727|                1.767|   0.8800000000000001|           0.49901|        0.80631|     2.0|[50.0,3.253996,10...|\n",
      "|              30.0|        2.70174775|                 6.0|              4.0|           11.663548|          12.41584|             2.766|                1.495|                 0.71|         0.6184925|        0.41631|     4.0|[30.0,2.70174775,...|\n",
      "|             120.0|            14.632|                12.0|              4.8|           24.808518|          11.33182|              2.87|               1.7185|                 0.91|0.4927359999999999|        1.96268|     6.0|[120.0,14.632,12....|\n",
      "|              97.0|         13.477328|             12.8125|              5.0|      24.98813313725|         11.037175|           2.81875|              1.60125|              0.88125|         0.4931925|        1.10889|     5.8|[97.0,13.477328,1...|\n",
      "|              72.0|          6.697992|                 8.0|              4.6|  16.862137999999998|          11.79886|             2.648|                1.626|                0.912|          0.498984|        0.74322|     6.0|[72.0,6.697992,8....|\n",
      "|             136.0|          8.109328|                11.0|4.333333333333333|   22.68885333333333|12.874275000000004|2.1466666666666665|   1.7133333333333336|                 0.92|0.4990741666666666|        0.75585|     5.5|[136.0,8.109328,1...|\n",
      "|              14.0|          4.673996|                14.0|              4.0|  31.574635600000004|            9.8771|             2.115|                1.925|                 1.12|0.4776649999999999|         1.8288|     2.0|[14.0,4.673996,14...|\n",
      "|              74.0|             14.22|                14.0|              4.0|           24.789618|            9.8771|             2.115|                1.905|                 1.12|           0.49897|         1.3513|     6.0|[74.0,14.22,14.0,...|\n",
      "|             105.0|          5.203996|                10.0|              4.8|          20.3920334|          11.46526|             2.752|   1.7880000000000005|                0.946|          0.481478|        0.81244|     3.5|[105.0,5.203996,1...|\n",
      "|             126.0|             13.35|                15.6|              4.4|           33.739258|          10.73364|             2.694|                1.925|                0.928|          0.489272|        1.96268|     6.0|[126.0,13.35,15.6...|\n",
      "|             214.0|            26.092|                22.4|              5.2|          53.4902975|          11.33044|2.8280000000000003|   1.7400000000000002|                 0.96|0.4775399999999999|        4.30067|     2.5|[214.0,26.092,22....|\n",
      "|              80.0|         3.7468275|                10.0|              4.5|       20.9940862215|         11.100835|               2.6|               1.7095|                 0.85|0.4912240000000001|        0.53898|     5.5|[80.0,3.7468275,1...|\n",
      "|              50.0| 8.505991999999999|                10.0|              4.8|       20.2988926326|10.565180000000002|2.7030000000000003|   1.6980000000000002|   0.8800000000000001|          0.496379|        0.68424|     5.5|[50.0,8.505991999...|\n",
      "|             112.0|         15.232328|   24.66666666666667|              6.0|            55.64164|11.239316666666667| 2.736666666666667|   1.7283333333333335|   0.9683333333333334|          0.477685|        3.11002|     4.5|[112.0,15.232328,...|\n",
      "+------------------+------------------+--------------------+-----------------+--------------------+------------------+------------------+---------------------+---------------------+------------------+---------------+--------+--------------------+\n",
      "only showing top 20 rows\n",
      "\n"
     ]
    }
   ],
   "source": [
    "out.show()"
   ]
  },
  {
   "cell_type": "code",
   "execution_count": 41,
   "metadata": {},
   "outputs": [
    {
     "data": {
      "text/plain": [
       "['allelectrons_Total',\n",
       " 'density_Total',\n",
       " 'allelectrons_Average',\n",
       " 'val_e_Average',\n",
       " 'atomicweight_Average',\n",
       " 'ionenergy_Average',\n",
       " 'el_neg_chi_Average',\n",
       " 'R_vdw_element_Average',\n",
       " 'R_cov_element_Average',\n",
       " 'zaratio_Average',\n",
       " 'density_Average',\n",
       " 'Hardness',\n",
       " 'X']"
      ]
     },
     "execution_count": 41,
     "metadata": {},
     "output_type": "execute_result"
    }
   ],
   "source": [
    "out.columns"
   ]
  },
  {
   "cell_type": "code",
   "execution_count": 42,
   "metadata": {},
   "outputs": [],
   "source": [
    "fout = out.select(['X','Hardness'])"
   ]
  },
  {
   "cell_type": "code",
   "execution_count": 43,
   "metadata": {},
   "outputs": [
    {
     "name": "stdout",
     "output_type": "stream",
     "text": [
      "+--------------------+--------+\n",
      "|                   X|Hardness|\n",
      "+--------------------+--------+\n",
      "|[100.0,0.84161099...|     6.0|\n",
      "|[100.0,7.558488,1...|     6.5|\n",
      "|[76.0,8.885992,15...|     2.5|\n",
      "|[100.0,8.795296,1...|     6.0|\n",
      "|[116.0,9.577996,1...|     6.0|\n",
      "|[131.0,24.529328,...|     6.0|\n",
      "|[50.0,3.253996,10...|     2.0|\n",
      "|[30.0,2.70174775,...|     4.0|\n",
      "|[120.0,14.632,12....|     6.0|\n",
      "|[97.0,13.477328,1...|     5.8|\n",
      "|[72.0,6.697992,8....|     6.0|\n",
      "|[136.0,8.109328,1...|     5.5|\n",
      "|[14.0,4.673996,14...|     2.0|\n",
      "|[74.0,14.22,14.0,...|     6.0|\n",
      "|[105.0,5.203996,1...|     3.5|\n",
      "|[126.0,13.35,15.6...|     6.0|\n",
      "|[214.0,26.092,22....|     2.5|\n",
      "|[80.0,3.7468275,1...|     5.5|\n",
      "|[50.0,8.505991999...|     5.5|\n",
      "|[112.0,15.232328,...|     4.5|\n",
      "+--------------------+--------+\n",
      "only showing top 20 rows\n",
      "\n"
     ]
    }
   ],
   "source": [
    "fout.show()"
   ]
  },
  {
   "cell_type": "code",
   "execution_count": 44,
   "metadata": {},
   "outputs": [],
   "source": [
    "from pyspark.ml.regression import LinearRegression\n",
    "train , test = fout.randomSplit([0.9 , 0.1])\n",
    "reg = LinearRegression(featuresCol='X',labelCol='Hardness')\n",
    "reg = reg.fit(train)"
   ]
  },
  {
   "cell_type": "code",
   "execution_count": 45,
   "metadata": {},
   "outputs": [
    {
     "data": {
      "text/plain": [
       "DenseVector([-0.0002, -0.0002, -0.0419, 0.0237, -0.0109, -0.1153, 1.1028, 2.1179, -0.6093, -4.5166, -0.0865])"
      ]
     },
     "execution_count": 45,
     "metadata": {},
     "output_type": "execute_result"
    }
   ],
   "source": [
    "reg.coefficients"
   ]
  },
  {
   "cell_type": "code",
   "execution_count": 46,
   "metadata": {},
   "outputs": [
    {
     "data": {
      "text/plain": [
       "3.3960204877324887"
      ]
     },
     "execution_count": 46,
     "metadata": {},
     "output_type": "execute_result"
    }
   ],
   "source": [
    "reg.intercept"
   ]
  },
  {
   "cell_type": "code",
   "execution_count": 47,
   "metadata": {},
   "outputs": [],
   "source": [
    "pred = reg.evaluate(test)"
   ]
  },
  {
   "cell_type": "code",
   "execution_count": 48,
   "metadata": {},
   "outputs": [
    {
     "name": "stdout",
     "output_type": "stream",
     "text": [
      "+--------------------+--------+------------------+\n",
      "|                   X|Hardness|        prediction|\n",
      "+--------------------+--------+------------------+\n",
      "|     (11,[1],[0.04])|     1.5|3.3960142169174516|\n",
      "|(11,[1,6,10],[0.0...|     1.5|5.8597546337207325|\n",
      "|(11,[1,6,10],[0.2...|     1.5| 6.184774611580428|\n",
      "|(11,[1,10],[0.848...|     1.5| 3.322508359815693|\n",
      "|(11,[1,10],[0.973...|     4.5| 3.316545270914939|\n",
      "|(11,[5,6,9,10],[0...|     1.5|1.1394471476747476|\n",
      "|(11,[6,7,10],[2.5...|     1.5|10.155369184594441|\n",
      "|(11,[7,9],[1.8,0....|     1.5| 4.954596757599171|\n",
      "| (11,[10],[0.50633])|     1.5|3.3522480794715457|\n",
      "|  (11,[10],[0.8148])|     4.0|3.3255807384562925|\n",
      "|[0.001,0.001,6.0,...|     8.1|4.2724777797854685|\n",
      "|[6.0,0.675436,6.0...|     5.5| 4.602321813695209|\n",
      "|[20.0,0.32,10.0,4...|     3.0| 5.905520128325447|\n",
      "|[20.0,0.96632,10....|     2.3| 5.304314233852214|\n",
      "|[20.0,0.97258,10....|     2.5| 5.354495570217618|\n",
      "|[20.0,0.97258,10....|     2.3|  5.04176894710781|\n",
      "|[20.0,0.973995,7....|     3.8| 4.495640261019029|\n",
      "|[20.0,1.741332,10...|     5.5| 4.771796034386888|\n",
      "|[20.0,1.741332,10...|     5.5| 4.744006402804005|\n",
      "|[20.0,1.741332,10...|     5.5| 4.727924907761837|\n",
      "+--------------------+--------+------------------+\n",
      "only showing top 20 rows\n",
      "\n"
     ]
    }
   ],
   "source": [
    "pred.predictions.show()"
   ]
  },
  {
   "cell_type": "code",
   "execution_count": 49,
   "metadata": {},
   "outputs": [
    {
     "data": {
      "text/plain": [
       "(1.1490581786530778, 2.0728959512032845)"
      ]
     },
     "execution_count": 49,
     "metadata": {},
     "output_type": "execute_result"
    }
   ],
   "source": [
    "pred.meanAbsoluteError,pred.meanSquaredError"
   ]
  },
  {
   "cell_type": "code",
   "execution_count": 50,
   "metadata": {},
   "outputs": [],
   "source": [
    "from pyspark.ml.evaluation import RegressionEvaluator"
   ]
  },
  {
   "cell_type": "code",
   "execution_count": 51,
   "metadata": {},
   "outputs": [],
   "source": [
    "from pyspark.ml.regression import DecisionTreeRegressor\n",
    "reg = DecisionTreeRegressor(featuresCol=\"X\",labelCol=\"Hardness\")"
   ]
  },
  {
   "cell_type": "code",
   "execution_count": 52,
   "metadata": {},
   "outputs": [
    {
     "name": "stdout",
     "output_type": "stream",
     "text": [
      "Root Mean Squared Error (RMSE) on test data = 1.27765\n"
     ]
    }
   ],
   "source": [
    "reg = reg.fit(train)\n",
    "pred = reg.transform(test)\n",
    "\n",
    "evaluator = RegressionEvaluator(\n",
    "    labelCol=\"Hardness\", predictionCol=\"prediction\", metricName=\"rmse\")\n",
    "rmse = evaluator.evaluate(pred)\n",
    "print(\"Root Mean Squared Error (RMSE) on test data = %g\" % rmse)"
   ]
  },
  {
   "cell_type": "code",
   "execution_count": 53,
   "metadata": {},
   "outputs": [],
   "source": [
    "from pyspark.ml.regression import RandomForestRegressor\n",
    "reg = RandomForestRegressor(featuresCol=\"X\",labelCol=\"Hardness\")"
   ]
  },
  {
   "cell_type": "code",
   "execution_count": 54,
   "metadata": {},
   "outputs": [
    {
     "name": "stdout",
     "output_type": "stream",
     "text": [
      "Root Mean Squared Error (RMSE) on test data = 1.2478\n"
     ]
    }
   ],
   "source": [
    "reg = reg.fit(train)\n",
    "pred = reg.transform(test)\n",
    "\n",
    "evaluator = RegressionEvaluator(\n",
    "    labelCol=\"Hardness\", predictionCol=\"prediction\", metricName=\"rmse\")\n",
    "rmse = evaluator.evaluate(pred)\n",
    "print(\"Root Mean Squared Error (RMSE) on test data = %g\" % rmse)"
   ]
  },
  {
   "cell_type": "code",
   "execution_count": 55,
   "metadata": {},
   "outputs": [],
   "source": [
    "from pyspark.ml.regression import GBTRegressor\n",
    "reg = GBTRegressor(featuresCol=\"X\",labelCol=\"Hardness\")"
   ]
  },
  {
   "cell_type": "code",
   "execution_count": 56,
   "metadata": {},
   "outputs": [
    {
     "name": "stdout",
     "output_type": "stream",
     "text": [
      "Root Mean Squared Error (RMSE) on test data = 1.22651\n"
     ]
    }
   ],
   "source": [
    "reg = reg.fit(train)\n",
    "pred = reg.transform(test)\n",
    "from pyspark.ml.evaluation import RegressionEvaluator\n",
    "evaluator = RegressionEvaluator(\n",
    "    labelCol=\"Hardness\", predictionCol=\"prediction\", metricName=\"rmse\")\n",
    "rmse = evaluator.evaluate(pred)\n",
    "print(\"Root Mean Squared Error (RMSE) on test data = %g\" % rmse)"
   ]
  }
 ],
 "metadata": {
  "kernelspec": {
   "display_name": "Python 3",
   "language": "python",
   "name": "python3"
  },
  "language_info": {
   "codemirror_mode": {
    "name": "ipython",
    "version": 3
   },
   "file_extension": ".py",
   "mimetype": "text/x-python",
   "name": "python",
   "nbconvert_exporter": "python",
   "pygments_lexer": "ipython3",
   "version": "3.11.5"
  }
 },
 "nbformat": 4,
 "nbformat_minor": 5
}
